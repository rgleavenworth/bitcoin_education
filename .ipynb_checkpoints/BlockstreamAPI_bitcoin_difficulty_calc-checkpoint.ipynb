{
 "cells": [
  {
   "cell_type": "markdown",
   "id": "efab0764",
   "metadata": {},
   "source": [
    "# Blockstream API and Difficulty calculation"
   ]
  },
  {
   "cell_type": "markdown",
   "id": "83cce1b9-1d03-482a-b620-013c06f0f1d1",
   "metadata": {},
   "source": [
    "Blockstream API wrapper docs at <br>\n",
    "[API docs](https://pypi.org/project/blockstream/)"
   ]
  },
  {
   "cell_type": "markdown",
   "id": "93c94fa4-b598-4ad1-af00-cfe62dcd8992",
   "metadata": {},
   "source": [
    "Useful calculation resource\n",
    "\n",
    "[Miner Daily](https://minerdaily.com/2021/how-are-bitcoins-difficulty-and-hash-rate-calculated/#How_Difficulty_is_Calculated)"
   ]
  },
  {
   "cell_type": "code",
   "execution_count": 41,
   "id": "b56435d3-7f8d-48d4-9e06-90827fdb8600",
   "metadata": {},
   "outputs": [],
   "source": [
    "from blockstream import blockexplorer\n",
    "from datetime import datetime\n",
    "import seaborn as sns\n",
    "import matplotlib.pyplot as plt\n",
    "import numpy as np\n",
    "import json\n",
    "import requests"
   ]
  },
  {
   "cell_type": "markdown",
   "id": "4aee4e2f-2463-4f8c-9821-890566458b5c",
   "metadata": {},
   "source": [
    "# Block height"
   ]
  },
  {
   "cell_type": "code",
   "execution_count": 2,
   "id": "7ac8f9c7-c3f7-4c75-a122-960dcf07fe89",
   "metadata": {},
   "outputs": [
    {
     "name": "stdout",
     "output_type": "stream",
     "text": [
      "Current block height is 772546\n"
     ]
    }
   ],
   "source": [
    "block_height = blockexplorer.get_last_block_height()\n",
    "print(f'Current block height is {block_height}')"
   ]
  },
  {
   "cell_type": "markdown",
   "id": "6ba71a5b",
   "metadata": {},
   "source": [
    "## Difficulty Epoch </b>"
   ]
  },
  {
   "cell_type": "code",
   "execution_count": 3,
   "id": "aa80f66f",
   "metadata": {},
   "outputs": [
    {
     "name": "stdout",
     "output_type": "stream",
     "text": [
      "Current difficulty epoch is 384\n"
     ]
    }
   ],
   "source": [
    "epoch=(block_height//2016)+1\n",
    "print(f'Current difficulty epoch is {epoch}')"
   ]
  },
  {
   "cell_type": "markdown",
   "id": "ba8d7648",
   "metadata": {},
   "source": [
    "## Blocks to retarget"
   ]
  },
  {
   "cell_type": "code",
   "execution_count": 4,
   "id": "eb986768",
   "metadata": {},
   "outputs": [
    {
     "name": "stdout",
     "output_type": "stream",
     "text": [
      "Blocks to retarget difficulty is 1598\n"
     ]
    }
   ],
   "source": [
    "retarget=2016-block_height%2016\n",
    "print(f'Blocks to retarget difficulty is {retarget}')"
   ]
  },
  {
   "cell_type": "markdown",
   "id": "c1dd0c15",
   "metadata": {},
   "source": [
    "<b>Trivia</b>: First difficulty adjustment in bitcoin network history was done on block 32256"
   ]
  },
  {
   "cell_type": "markdown",
   "id": "acb89fdf-4502-4705-b6fe-0ae81df4d9e6",
   "metadata": {},
   "source": [
    "## Difficulty stats and calculation"
   ]
  },
  {
   "cell_type": "code",
   "execution_count": 5,
   "id": "2b2bad2f-f15f-4ca4-bec9-eb8b71886b9b",
   "metadata": {},
   "outputs": [],
   "source": [
    "block = blockexplorer.get_blocks()[0]\n",
    "nbits = hex(block.bits)"
   ]
  },
  {
   "cell_type": "code",
   "execution_count": 6,
   "id": "b51295ea-dfa6-4b85-9146-5a85513736d6",
   "metadata": {},
   "outputs": [
    {
     "name": "stdout",
     "output_type": "stream",
     "text": [
      "nbits in current block hearder is 0x17077ce2\n"
     ]
    }
   ],
   "source": [
    "print(f'nbits in current block hearder is {nbits}')"
   ]
  },
  {
   "cell_type": "code",
   "execution_count": 7,
   "id": "759d1a6a-cf1f-4628-be8c-59c618c0866a",
   "metadata": {},
   "outputs": [
    {
     "data": {
      "text/plain": [
       "386366690"
      ]
     },
     "execution_count": 7,
     "metadata": {},
     "output_type": "execute_result"
    }
   ],
   "source": [
    "block.bits"
   ]
  },
  {
   "cell_type": "code",
   "execution_count": 8,
   "id": "a4db33e5-0ac3-4b11-96b7-d189d51317a0",
   "metadata": {},
   "outputs": [
    {
     "data": {
      "text/plain": [
       "'0x29cc6000'"
      ]
     },
     "execution_count": 8,
     "metadata": {},
     "output_type": "execute_result"
    }
   ],
   "source": [
    "hex(block.version)"
   ]
  },
  {
   "cell_type": "code",
   "execution_count": 9,
   "id": "b232895d",
   "metadata": {},
   "outputs": [],
   "source": [
    "bits = int('0x'+nbits[4:], 16)\n",
    "nbytes = int(nbits[:4], 16)"
   ]
  },
  {
   "cell_type": "code",
   "execution_count": 10,
   "id": "04b95e11-2079-4a18-809d-57e5c7296ff8",
   "metadata": {},
   "outputs": [
    {
     "data": {
      "text/plain": [
       "'0x77ce2'"
      ]
     },
     "execution_count": 10,
     "metadata": {},
     "output_type": "execute_result"
    }
   ],
   "source": [
    "hex(bits)"
   ]
  },
  {
   "cell_type": "code",
   "execution_count": 11,
   "id": "29504863-f310-4381-b761-8090f8ee4329",
   "metadata": {},
   "outputs": [
    {
     "data": {
      "text/plain": [
       "'0x17'"
      ]
     },
     "execution_count": 11,
     "metadata": {},
     "output_type": "execute_result"
    }
   ],
   "source": [
    "hex(nbytes)"
   ]
  },
  {
   "cell_type": "code",
   "execution_count": 12,
   "id": "7905a859-c6c8-4137-bf8f-f372a649947e",
   "metadata": {},
   "outputs": [
    {
     "name": "stdout",
     "output_type": "stream",
     "text": [
      "Current difficulty target is 37.59T\n"
     ]
    }
   ],
   "source": [
    "genesis_block_difficulty = 0xFFFF0000000000000000000000000000000000000000000000000000\n",
    "difficulty = round(genesis_block_difficulty/(bits*256**(nbytes-3))/1E12, 2)\n",
    "print('Current difficulty target is {}'.format(str(difficulty)+'T'))"
   ]
  },
  {
   "cell_type": "markdown",
   "id": "3286e04c-84ce-4cae-b668-196d69e927dc",
   "metadata": {},
   "source": [
    "# Current fee estimates"
   ]
  },
  {
   "cell_type": "code",
   "execution_count": 13,
   "id": "63b6392c-2869-425c-8eeb-b6b038bbe933",
   "metadata": {},
   "outputs": [
    {
     "name": "stdout",
     "output_type": "stream",
     "text": [
      "Current network transaction fees based on last 10 blocks is 1.00 sats/vByte\n"
     ]
    }
   ],
   "source": [
    "fees = blockexplorer.get_fee_estimates()\n",
    "print('Current network transaction fees based on last 10 blocks is {:.02f} sats/vByte'.format(fees.ten_blocks))"
   ]
  },
  {
   "cell_type": "markdown",
   "id": "bb267310-594d-444d-9af5-aba131586ffb",
   "metadata": {},
   "source": [
    "# Last block hash"
   ]
  },
  {
   "cell_type": "code",
   "execution_count": 14,
   "id": "59e9d439-d9a9-4ba0-877f-717b78e94d0b",
   "metadata": {},
   "outputs": [
    {
     "data": {
      "text/plain": [
       "'0000000000000000000722a2e2e4e0f9cdf2ec17ab2696ebebb220ba42c9927f'"
      ]
     },
     "execution_count": 14,
     "metadata": {},
     "output_type": "execute_result"
    }
   ],
   "source": [
    "blockexplorer.get_last_block_hash()"
   ]
  },
  {
   "cell_type": "code",
   "execution_count": 15,
   "id": "ebbe1f9a-4f28-4f58-bc55-12cd919fbfb1",
   "metadata": {},
   "outputs": [
    {
     "data": {
      "text/plain": [
       "{'in_best_chain': True, 'height': 772546, 'next_best': None}"
      ]
     },
     "execution_count": 15,
     "metadata": {},
     "output_type": "execute_result"
    }
   ],
   "source": [
    "b = blockexplorer.get_block_status(blockexplorer.get_last_block_hash())\n",
    "b.serialized()"
   ]
  },
  {
   "cell_type": "markdown",
   "id": "158e5f4a-4951-4b53-a9cb-7b5b175cf889",
   "metadata": {},
   "source": [
    "# Hash Rate calculation"
   ]
  },
  {
   "cell_type": "markdown",
   "id": "d11ab734-e534-44f0-b0db-e0f8e04fb457",
   "metadata": {},
   "source": [
    "Hash rate based on current difficulty"
   ]
  },
  {
   "cell_type": "code",
   "execution_count": 16,
   "id": "90d52a24-a59c-444c-90c7-4d6675318a42",
   "metadata": {},
   "outputs": [
    {
     "name": "stdout",
     "output_type": "stream",
     "text": [
      "Hash rate used to determine current difficulty targt is 269.08 EH/s\n"
     ]
    }
   ],
   "source": [
    "hr = difficulty*2**32/600/1E6\n",
    "print(f'Hash rate used to determine current difficulty targt is {hr:.02f} EH/s')"
   ]
  },
  {
   "cell_type": "markdown",
   "id": "248809dc-0df2-4327-8324-4776d99c191c",
   "metadata": {},
   "source": [
    "## Calculate current hour hash rate"
   ]
  },
  {
   "cell_type": "code",
   "execution_count": 17,
   "id": "4da7a0eb-ff6e-4f12-993c-6e91d44f35d5",
   "metadata": {},
   "outputs": [],
   "source": [
    "def get_blocks_from(period=24, debug=False):\n",
    "    \"\"\"Function to pull arbitrary amount of blocks from Blockstream API. Standard function limits you to 10 blocks.\n",
    "    Typical usage:\n",
    "    To pull data for 3 days (72 hours)\n",
    "    >>> get_blocks_from(period=72)\n",
    "    Use the debug switch to get some helpful debug information\n",
    "    >>> get_blocks_from(period=48, debug=True)    \n",
    "    \"\"\"\n",
    "    nblocks=period*6\n",
    "    if nblocks>2016:\n",
    "        nblocks=2016 #limit query to 2016 blocks ~2 weeks worth of data\n",
    "    block_height = blockexplorer.get_last_block_height()\n",
    "    bh = block_height\n",
    "    if debug:\n",
    "        print(f'Current block height is at {block_height}')\n",
    "    blocks=[]\n",
    "    while bh>=block_height-nblocks:\n",
    "        if debug:\n",
    "            print(f'Pulling blocks from block_height {bh}')\n",
    "        b=blockexplorer.get_blocks(bh)\n",
    "        bh-=10\n",
    "        blocks.append(b)\n",
    "    blocks=[item for sublist in blocks for item in sublist][:nblocks]\n",
    "    if debug:\n",
    "        print('Returning a list of {}'.format(len(blocks)))\n",
    "    return blocks"
   ]
  },
  {
   "cell_type": "code",
   "execution_count": 18,
   "id": "47747609-959c-4861-8e7a-c4d0ae91c654",
   "metadata": {},
   "outputs": [],
   "source": [
    "blocks =get_blocks_from(period=24)\n",
    "nblocks=len(blocks)"
   ]
  },
  {
   "cell_type": "code",
   "execution_count": 19,
   "id": "e54cb258-a8f6-4b4f-8a55-257df95d397a",
   "metadata": {},
   "outputs": [],
   "source": [
    "block_timestamps = [datetime.fromtimestamp(x.timestamp) for x in blocks]\n",
    "time_diff = [j - i for i, j in zip(block_timestamps[1: ], block_timestamps[:-1])]\n",
    "td_seconds = [x.seconds for x in time_diff]\n",
    "td_minutes = [x//60 for x in td_seconds]"
   ]
  },
  {
   "cell_type": "code",
   "execution_count": 143,
   "id": "dc25983a-e379-4859-b2ba-afe68aa74ff7",
   "metadata": {},
   "outputs": [
    {
     "data": {
      "image/png": "[encoded data removed]",
      "text/plain": [
       "<Figure size 500x500 with 1 Axes>"
      ]
     },
     "metadata": {},
     "output_type": "display_data"
    }
   ],
   "source": [
    "f = sns.displot(data = td_seconds, bins=60, kde=True)\n",
    "plt.axvline(600, color = 'red', linestyle='-.')\n",
    "plt.text(650,f.ax.get_ylim()[1]/2,'Target block time', color = 'red',rotation=0)\n",
    "plt.xlabel('Block time in seconds')\n",
    "plt.title(f'Block time intervals over last {nblocks} blocks');"
   ]
  },
  {
   "cell_type": "markdown",
   "id": "4c0027dc-c6fd-4f6c-a9a2-b7e1c35fd31e",
   "metadata": {},
   "source": [
    "Current Hash rate is calculated as expected blocks/found blocks * hash rate set calculated using current difficulty"
   ]
  },
  {
   "cell_type": "code",
   "execution_count": 21,
   "id": "ecb24570-858d-4e18-9a6d-633ed21dfb5e",
   "metadata": {},
   "outputs": [
    {
     "name": "stdout",
     "output_type": "stream",
     "text": [
      "Current Hash rate based on the last 144 blocks is 271.68 EH/s\n"
     ]
    }
   ],
   "source": [
    "block_diff=(block_timestamps[0]-block_timestamps[-1]).seconds+(block_timestamps[0]-block_timestamps[-1]).days*3600*24\n",
    "current_hr = round(nblocks*600/block_diff*hr, 2)\n",
    "print (f'Current Hash rate based on the last {nblocks} blocks is {current_hr} EH/s')"
   ]
  },
  {
   "cell_type": "markdown",
   "id": "886ccc71-d223-403c-91ff-5d317edc7736",
   "metadata": {},
   "source": [
    "## Average Block time"
   ]
  },
  {
   "cell_type": "code",
   "execution_count": 22,
   "id": "66e36358-2d2b-4cfb-b928-f2030b0a5ef2",
   "metadata": {},
   "outputs": [
    {
     "name": "stdout",
     "output_type": "stream",
     "text": [
      "Average block time is 9:58\n"
     ]
    }
   ],
   "source": [
    "m=int(np.array(td_seconds).mean()//60)\n",
    "s=int(np.array(td_seconds).mean()%60)\n",
    "print(f'Average block time is {m}:{s:02d}')"
   ]
  },
  {
   "cell_type": "markdown",
   "id": "583b2a5b-2644-4b74-bf97-e0292ef702ba",
   "metadata": {},
   "source": [
    "## Time since last block"
   ]
  },
  {
   "cell_type": "code",
   "execution_count": 23,
   "id": "9faff662-24d2-48e6-b39b-6ce1a071bf96",
   "metadata": {},
   "outputs": [
    {
     "name": "stdout",
     "output_type": "stream",
     "text": [
      "Time since last block is 6:04\n"
     ]
    }
   ],
   "source": [
    "m=(datetime.now()-block_timestamps[0]).seconds//60\n",
    "s=(datetime.now()-block_timestamps[0]).seconds%60\n",
    "print(f'Time since last block is {m}:{s:02d}')"
   ]
  },
  {
   "cell_type": "markdown",
   "id": "d733bd4a-91fe-4f30-a3dd-9235f1cbe5f8",
   "metadata": {},
   "source": [
    "## Estimated Difficulty Adjustment"
   ]
  },
  {
   "cell_type": "code",
   "execution_count": 24,
   "id": "48c19223-1853-474b-9e85-9859e7339bd6",
   "metadata": {},
   "outputs": [
    {
     "name": "stdout",
     "output_type": "stream",
     "text": [
      "Estimated diffulty adjustment is  0.97%\n"
     ]
    }
   ],
   "source": [
    "estimated_difficulty_adj = (current_hr/hr-1)*100\n",
    "print(f'Estimated diffulty adjustment is  {estimated_difficulty_adj:.2f}%')"
   ]
  },
  {
   "cell_type": "markdown",
   "id": "632b7334-61eb-41ce-a619-a96d6a3fbc82",
   "metadata": {},
   "source": [
    "# Miner earnings"
   ]
  },
  {
   "cell_type": "markdown",
   "id": "4d7e4098-8c8e-4693-8625-b5efc7a8e804",
   "metadata": {},
   "source": [
    "daily bitcoin miner earnings = \n",
    "(6.25 block reward * Hash/second * 86,400 seconds per day) / (difficulty * 2^32)"
   ]
  },
  {
   "cell_type": "code",
   "execution_count": 25,
   "id": "0066d7cb-a69d-4e76-8033-42a9ca107d57",
   "metadata": {},
   "outputs": [
    {
     "name": "stdout",
     "output_type": "stream",
     "text": [
      "Daily earnings from block rewards per EH of hashing power is approximately 3.34473391 BTC. Calculation does not consider fees.\n"
     ]
    }
   ],
   "source": [
    "daily_earnings = round((6.25*1E18*86400)/(difficulty*1E12*2**32),8)\n",
    "print(f'Daily earnings from block rewards per EH of hashing power is approximately {daily_earnings} BTC. Calculation does not consider fees.')"
   ]
  },
  {
   "cell_type": "code",
   "execution_count": 26,
   "id": "27c94e63-9d76-4185-a6b0-cf794930d708",
   "metadata": {},
   "outputs": [
    {
     "name": "stdout",
     "output_type": "stream",
     "text": [
      "Annual earnings from block rewards per 10PH of hashing power is approximately 12.2082791 BTC. Calculation does not consider fees.\n"
     ]
    }
   ],
   "source": [
    "yearly_earnings = round((6.25*1E16*86400)/(difficulty*1E12*2**32),8)*365\n",
    "print(f'Annual earnings from block rewards per 10PH of hashing power is approximately {yearly_earnings} BTC. Calculation does not consider fees.')"
   ]
  },
  {
   "cell_type": "markdown",
   "id": "f2f784a5-8e21-4263-9d13-3660e6406c13",
   "metadata": {},
   "source": [
    "## Miner balance sheet calculation"
   ]
  },
  {
   "cell_type": "code",
   "execution_count": 92,
   "id": "408154ca-5629-4cea-bb19-9bd637ccca30",
   "metadata": {},
   "outputs": [],
   "source": [
    "def btcusd_coinbase():\n",
    "    endpoint = 'https://api.coinbase.com/v2/exchange-rates?currency=USD'  # this is the coinbase API endpoint for the data\n",
    "    response = requests.get(endpoint)\n",
    "    if response.status_code == 200:\n",
    "        data = json.loads(response.text)\n",
    "    else:\n",
    "        raise Exception('Coinbase API call failed')\n",
    "    return round(1/float(data['data']['rates']['BTC']),2)"
   ]
  },
  {
   "cell_type": "code",
   "execution_count": 145,
   "id": "9bd63022-97ad-4d16-95c7-71d9544775a3",
   "metadata": {},
   "outputs": [
    {
     "name": "stdout",
     "output_type": "stream",
     "text": [
      "Capital cost of miners to produce 10PH/s is $0.55M. Electricity cost is $0.05M@2c/KWhr, and annual earnings are $0.26M USD based on an BTCUSD exchange rate of $20909.52\n"
     ]
    }
   ],
   "source": [
    "miner_cost=6000 #$Cost to procure\n",
    "elec_cost=0.02 #$Cost of electricity per KWhr\n",
    "miner_tdp=3 #Miner power consumption in KWh\n",
    "miner_hp=110*1E12 #Hashing power per miner\n",
    "n_miners=10*1E15/miner_hp #Total miners to produce 10PH\n",
    "cap_cost=round(miner_cost*n_miners/1E6,2) #Cap cost in millions of USD\n",
    "op_cost=round(n_miners*miner_tdp*24*365*elec_cost/1E6,2) #Operational cost\n",
    "btcusd=btcusd_coinbase() #BTCUSD exchange rate\n",
    "revenue_dollars=round(yearly_earnings*btcusd/1E6,2)\n",
    "print(f'Capital cost of miners to produce 10PH/s is ${cap_cost}M. Electricity cost is ${op_cost}M@2c/KWhr, and annual earnings are ${revenue_dollars}M USD based on an BTCUSD exchange rate of ${btcusd}')"
   ]
  },
  {
   "cell_type": "code",
   "execution_count": 112,
   "id": "9a4cecc6-4fd0-4cb1-a502-f17c29b1a084",
   "metadata": {},
   "outputs": [
    {
     "name": "stdout",
     "output_type": "stream",
     "text": [
      "Cost of mining one bitcoin at is $4095.58\n"
     ]
    }
   ],
   "source": [
    "prod_cost = round(op_cost/yearly_earnings*1E6,2)\n",
    "print(f'Cost of mining one bitcoin at is ${prod_cost}')"
   ]
  },
  {
   "cell_type": "code",
   "execution_count": 113,
   "id": "ef1462f4-4aef-41d1-af1b-908ffc98d803",
   "metadata": {},
   "outputs": [
    {
     "name": "stdout",
     "output_type": "stream",
     "text": [
      "Gross margins at 80.77%\n"
     ]
    }
   ],
   "source": [
    "gross_margin =round((1-op_cost/revenue_dollars)*100,2)\n",
    "print(f'Gross margins at {gross_margin}%')"
   ]
  }
 ],
 "metadata": {
  "kernelspec": {
   "display_name": "Python 3 (ipykernel)",
   "language": "python",
   "name": "python3"
  },
  "language_info": {
   "codemirror_mode": {
    "name": "ipython",
    "version": 3
   },
   "file_extension": ".py",
   "mimetype": "text/x-python",
   "name": "python",
   "nbconvert_exporter": "python",
   "pygments_lexer": "ipython3",
   "version": "3.9.15"
  }
 },
 "nbformat": 4,
 "nbformat_minor": 5
}
