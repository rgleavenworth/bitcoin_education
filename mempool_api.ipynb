{
 "cells": [
  {
   "cell_type": "markdown",
   "id": "4f1234f6-5a84-40d5-9e5f-f814d2490d64",
   "metadata": {},
   "source": [
    "# Mempool API"
   ]
  },
  {
   "cell_type": "markdown",
   "id": "fd38727e-9df0-49a2-91a5-722788cedbab",
   "metadata": {},
   "source": [
    "[Python repo](https://github.com/holgern/pymempool)"
   ]
  },
  {
   "cell_type": "code",
   "execution_count": 1,
   "id": "7d5ba9cb-e6a7-4fe4-b59d-6f309c45c8e7",
   "metadata": {},
   "outputs": [],
   "source": [
    "from pymempool import MempoolAPI\n",
    "mp = MempoolAPI()"
   ]
  },
  {
   "cell_type": "code",
   "execution_count": 2,
   "id": "8a6b79fb-b0ba-4ab7-ad6c-0476816b9e26",
   "metadata": {},
   "outputs": [
    {
     "data": {
      "text/plain": [
       "'https://mempool.space/api/'"
      ]
     },
     "execution_count": 2,
     "metadata": {},
     "output_type": "execute_result"
    }
   ],
   "source": [
    "mp.api_base_url"
   ]
  },
  {
   "cell_type": "markdown",
   "id": "065eaad7-bf6b-41da-9497-c40695b3ead4",
   "metadata": {},
   "source": [
    "Get block height"
   ]
  },
  {
   "cell_type": "code",
   "execution_count": null,
   "id": "be7740f2-700f-455a-95ff-0875796d8947",
   "metadata": {},
   "outputs": [],
   "source": [
    "mp.get_block_tip_height()"
   ]
  },
  {
   "cell_type": "code",
   "execution_count": null,
   "id": "13c71de8-38f6-4f01-9f0d-c50939a3b8e0",
   "metadata": {},
   "outputs": [],
   "source": []
  }
 ],
 "metadata": {
  "kernelspec": {
   "display_name": "Python 3 (ipykernel)",
   "language": "python",
   "name": "python3"
  },
  "language_info": {
   "codemirror_mode": {
    "name": "ipython",
    "version": 3
   },
   "file_extension": ".py",
   "mimetype": "text/x-python",
   "name": "python",
   "nbconvert_exporter": "python",
   "pygments_lexer": "ipython3",
   "version": "3.9.15"
  }
 },
 "nbformat": 4,
 "nbformat_minor": 5
}
